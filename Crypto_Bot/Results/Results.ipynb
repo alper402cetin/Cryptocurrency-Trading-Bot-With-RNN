{
 "cells": [
  {
   "cell_type": "code",
   "execution_count": 203,
   "metadata": {},
   "outputs": [],
   "source": [
    "from time import sleep\n",
    "import numpy as np\n",
    "import urllib3\n",
    "import matplotlib\n",
    "from numpy import append\n",
    "import config\n",
    "import vectorbt as vbt\n",
    "import pandas as pd\n",
    "import pandas_ta as ta\n",
    "from datetime import datetime\n",
    "from alpaca_trade_api.rest import REST\n",
    "import gym\n",
    "import gym_anytrading\n",
    "from tensorflow.keras.models import load_model\n",
    "import requests\n",
    "\n",
    "from stable_baselines import ACKTR\n",
    "from stable_baselines.common.evaluation import evaluate_policy"
   ]
  },
  {
   "cell_type": "code",
   "execution_count": 204,
   "metadata": {},
   "outputs": [
    {
     "name": "stdout",
     "output_type": "stream",
     "text": [
      "- TRY=X: No data found for this date range, symbol may be delisted\n"
     ]
    },
    {
     "data": {
      "text/plain": [
       "0"
      ]
     },
     "execution_count": 204,
     "metadata": {},
     "output_type": "execute_result"
    },
    {
     "data": {
      "image/png": "[encoded data removed]",
      "text/plain": [
       "<Figure size 432x288 with 1 Axes>"
      ]
     },
     "metadata": {
      "needs_background": "light"
     },
     "output_type": "display_data"
    }
   ],
   "source": [
    "data = vbt.YFData.download(symbols= 'TRY=X', period=\"119d\")\n",
    "#df = vbt.Portfolio.from_holding(data, init_cash=100)\n",
    "#print(data.data['TRYUSD=X']['Close'])\n",
    "X=data.data['TRY=X'].index\n",
    "Y=data.data['TRY=X'].Close\n",
    "data.data['TRY=X'].reset_index().plot(x='Date', y='Close')\n",
    "X=data.data['TRY=X']\n",
    "liraDF = pd.DataFrame( X['Close'])\n",
    "LiraArray = np.array(liraDF)\n",
    "liraDF.size"
   ]
  },
  {
   "cell_type": "code",
   "execution_count": 205,
   "metadata": {},
   "outputs": [
    {
     "ename": "ValueError",
     "evalue": "Found array with 0 sample(s) (shape=(0, 1)) while a minimum of 1 is required by MinMaxScaler.",
     "output_type": "error",
     "traceback": [
      "\u001b[1;31m---------------------------------------------------------------------------\u001b[0m",
      "\u001b[1;31mValueError\u001b[0m                                Traceback (most recent call last)",
      "\u001b[1;32m~\\AppData\\Local\\Temp/ipykernel_21480/1745141756.py\u001b[0m in \u001b[0;36m<module>\u001b[1;34m\u001b[0m\n\u001b[0;32m      2\u001b[0m \u001b[0msc\u001b[0m \u001b[1;33m=\u001b[0m \u001b[0mMinMaxScaler\u001b[0m\u001b[1;33m(\u001b[0m\u001b[0mfeature_range\u001b[0m \u001b[1;33m=\u001b[0m \u001b[1;33m(\u001b[0m\u001b[1;36m0\u001b[0m\u001b[1;33m,\u001b[0m\u001b[1;36m1\u001b[0m\u001b[1;33m)\u001b[0m\u001b[1;33m)\u001b[0m\u001b[1;33m\u001b[0m\u001b[1;33m\u001b[0m\u001b[0m\n\u001b[0;32m      3\u001b[0m \u001b[0mtestingSet\u001b[0m \u001b[1;33m=\u001b[0m \u001b[0mpd\u001b[0m\u001b[1;33m.\u001b[0m\u001b[0mDataFrame\u001b[0m\u001b[1;33m(\u001b[0m\u001b[0mliraDF\u001b[0m\u001b[1;33m)\u001b[0m\u001b[1;33m\u001b[0m\u001b[1;33m\u001b[0m\u001b[0m\n\u001b[1;32m----> 4\u001b[1;33m \u001b[0mtesting_set_scaled\u001b[0m \u001b[1;33m=\u001b[0m \u001b[0msc\u001b[0m\u001b[1;33m.\u001b[0m\u001b[0mfit_transform\u001b[0m\u001b[1;33m(\u001b[0m\u001b[0mtestingSet\u001b[0m\u001b[1;33m)\u001b[0m\u001b[1;33m\u001b[0m\u001b[1;33m\u001b[0m\u001b[0m\n\u001b[0m\u001b[0;32m      5\u001b[0m \u001b[0mtesting_set_scaled\u001b[0m\u001b[1;33m\u001b[0m\u001b[1;33m\u001b[0m\u001b[0m\n",
      "\u001b[1;32m~\\AppData\\Roaming\\Python\\Python37\\site-packages\\sklearn\\base.py\u001b[0m in \u001b[0;36mfit_transform\u001b[1;34m(self, X, y, **fit_params)\u001b[0m\n\u001b[0;32m    850\u001b[0m         \u001b[1;32mif\u001b[0m \u001b[0my\u001b[0m \u001b[1;32mis\u001b[0m \u001b[1;32mNone\u001b[0m\u001b[1;33m:\u001b[0m\u001b[1;33m\u001b[0m\u001b[1;33m\u001b[0m\u001b[0m\n\u001b[0;32m    851\u001b[0m             \u001b[1;31m# fit method of arity 1 (unsupervised transformation)\u001b[0m\u001b[1;33m\u001b[0m\u001b[1;33m\u001b[0m\u001b[1;33m\u001b[0m\u001b[0m\n\u001b[1;32m--> 852\u001b[1;33m             \u001b[1;32mreturn\u001b[0m \u001b[0mself\u001b[0m\u001b[1;33m.\u001b[0m\u001b[0mfit\u001b[0m\u001b[1;33m(\u001b[0m\u001b[0mX\u001b[0m\u001b[1;33m,\u001b[0m \u001b[1;33m**\u001b[0m\u001b[0mfit_params\u001b[0m\u001b[1;33m)\u001b[0m\u001b[1;33m.\u001b[0m\u001b[0mtransform\u001b[0m\u001b[1;33m(\u001b[0m\u001b[0mX\u001b[0m\u001b[1;33m)\u001b[0m\u001b[1;33m\u001b[0m\u001b[1;33m\u001b[0m\u001b[0m\n\u001b[0m\u001b[0;32m    853\u001b[0m         \u001b[1;32melse\u001b[0m\u001b[1;33m:\u001b[0m\u001b[1;33m\u001b[0m\u001b[1;33m\u001b[0m\u001b[0m\n\u001b[0;32m    854\u001b[0m             \u001b[1;31m# fit method of arity 2 (supervised transformation)\u001b[0m\u001b[1;33m\u001b[0m\u001b[1;33m\u001b[0m\u001b[1;33m\u001b[0m\u001b[0m\n",
      "\u001b[1;32m~\\AppData\\Roaming\\Python\\Python37\\site-packages\\sklearn\\preprocessing\\_data.py\u001b[0m in \u001b[0;36mfit\u001b[1;34m(self, X, y)\u001b[0m\n\u001b[0;32m    414\u001b[0m         \u001b[1;31m# Reset internal state before fitting\u001b[0m\u001b[1;33m\u001b[0m\u001b[1;33m\u001b[0m\u001b[1;33m\u001b[0m\u001b[0m\n\u001b[0;32m    415\u001b[0m         \u001b[0mself\u001b[0m\u001b[1;33m.\u001b[0m\u001b[0m_reset\u001b[0m\u001b[1;33m(\u001b[0m\u001b[1;33m)\u001b[0m\u001b[1;33m\u001b[0m\u001b[1;33m\u001b[0m\u001b[0m\n\u001b[1;32m--> 416\u001b[1;33m         \u001b[1;32mreturn\u001b[0m \u001b[0mself\u001b[0m\u001b[1;33m.\u001b[0m\u001b[0mpartial_fit\u001b[0m\u001b[1;33m(\u001b[0m\u001b[0mX\u001b[0m\u001b[1;33m,\u001b[0m \u001b[0my\u001b[0m\u001b[1;33m)\u001b[0m\u001b[1;33m\u001b[0m\u001b[1;33m\u001b[0m\u001b[0m\n\u001b[0m\u001b[0;32m    417\u001b[0m \u001b[1;33m\u001b[0m\u001b[0m\n\u001b[0;32m    418\u001b[0m     \u001b[1;32mdef\u001b[0m \u001b[0mpartial_fit\u001b[0m\u001b[1;33m(\u001b[0m\u001b[0mself\u001b[0m\u001b[1;33m,\u001b[0m \u001b[0mX\u001b[0m\u001b[1;33m,\u001b[0m \u001b[0my\u001b[0m\u001b[1;33m=\u001b[0m\u001b[1;32mNone\u001b[0m\u001b[1;33m)\u001b[0m\u001b[1;33m:\u001b[0m\u001b[1;33m\u001b[0m\u001b[1;33m\u001b[0m\u001b[0m\n",
      "\u001b[1;32m~\\AppData\\Roaming\\Python\\Python37\\site-packages\\sklearn\\preprocessing\\_data.py\u001b[0m in \u001b[0;36mpartial_fit\u001b[1;34m(self, X, y)\u001b[0m\n\u001b[0;32m    456\u001b[0m             \u001b[0mestimator\u001b[0m\u001b[1;33m=\u001b[0m\u001b[0mself\u001b[0m\u001b[1;33m,\u001b[0m\u001b[1;33m\u001b[0m\u001b[1;33m\u001b[0m\u001b[0m\n\u001b[0;32m    457\u001b[0m             \u001b[0mdtype\u001b[0m\u001b[1;33m=\u001b[0m\u001b[0mFLOAT_DTYPES\u001b[0m\u001b[1;33m,\u001b[0m\u001b[1;33m\u001b[0m\u001b[1;33m\u001b[0m\u001b[0m\n\u001b[1;32m--> 458\u001b[1;33m             \u001b[0mforce_all_finite\u001b[0m\u001b[1;33m=\u001b[0m\u001b[1;34m\"allow-nan\"\u001b[0m\u001b[1;33m,\u001b[0m\u001b[1;33m\u001b[0m\u001b[1;33m\u001b[0m\u001b[0m\n\u001b[0m\u001b[0;32m    459\u001b[0m         )\n\u001b[0;32m    460\u001b[0m \u001b[1;33m\u001b[0m\u001b[0m\n",
      "\u001b[1;32m~\\AppData\\Roaming\\Python\\Python37\\site-packages\\sklearn\\base.py\u001b[0m in \u001b[0;36m_validate_data\u001b[1;34m(self, X, y, reset, validate_separately, **check_params)\u001b[0m\n\u001b[0;32m    564\u001b[0m             \u001b[1;32mraise\u001b[0m \u001b[0mValueError\u001b[0m\u001b[1;33m(\u001b[0m\u001b[1;34m\"Validation should be done on X, y or both.\"\u001b[0m\u001b[1;33m)\u001b[0m\u001b[1;33m\u001b[0m\u001b[1;33m\u001b[0m\u001b[0m\n\u001b[0;32m    565\u001b[0m         \u001b[1;32melif\u001b[0m \u001b[1;32mnot\u001b[0m \u001b[0mno_val_X\u001b[0m \u001b[1;32mand\u001b[0m \u001b[0mno_val_y\u001b[0m\u001b[1;33m:\u001b[0m\u001b[1;33m\u001b[0m\u001b[1;33m\u001b[0m\u001b[0m\n\u001b[1;32m--> 566\u001b[1;33m             \u001b[0mX\u001b[0m \u001b[1;33m=\u001b[0m \u001b[0mcheck_array\u001b[0m\u001b[1;33m(\u001b[0m\u001b[0mX\u001b[0m\u001b[1;33m,\u001b[0m \u001b[1;33m**\u001b[0m\u001b[0mcheck_params\u001b[0m\u001b[1;33m)\u001b[0m\u001b[1;33m\u001b[0m\u001b[1;33m\u001b[0m\u001b[0m\n\u001b[0m\u001b[0;32m    567\u001b[0m             \u001b[0mout\u001b[0m \u001b[1;33m=\u001b[0m \u001b[0mX\u001b[0m\u001b[1;33m\u001b[0m\u001b[1;33m\u001b[0m\u001b[0m\n\u001b[0;32m    568\u001b[0m         \u001b[1;32melif\u001b[0m \u001b[0mno_val_X\u001b[0m \u001b[1;32mand\u001b[0m \u001b[1;32mnot\u001b[0m \u001b[0mno_val_y\u001b[0m\u001b[1;33m:\u001b[0m\u001b[1;33m\u001b[0m\u001b[1;33m\u001b[0m\u001b[0m\n",
      "\u001b[1;32m~\\AppData\\Roaming\\Python\\Python37\\site-packages\\sklearn\\utils\\validation.py\u001b[0m in \u001b[0;36mcheck_array\u001b[1;34m(array, accept_sparse, accept_large_sparse, dtype, order, copy, force_all_finite, ensure_2d, allow_nd, ensure_min_samples, ensure_min_features, estimator)\u001b[0m\n\u001b[0;32m    806\u001b[0m                 \u001b[1;34m\"Found array with %d sample(s) (shape=%s) while a\"\u001b[0m\u001b[1;33m\u001b[0m\u001b[1;33m\u001b[0m\u001b[0m\n\u001b[0;32m    807\u001b[0m                 \u001b[1;34m\" minimum of %d is required%s.\"\u001b[0m\u001b[1;33m\u001b[0m\u001b[1;33m\u001b[0m\u001b[0m\n\u001b[1;32m--> 808\u001b[1;33m                 \u001b[1;33m%\u001b[0m \u001b[1;33m(\u001b[0m\u001b[0mn_samples\u001b[0m\u001b[1;33m,\u001b[0m \u001b[0marray\u001b[0m\u001b[1;33m.\u001b[0m\u001b[0mshape\u001b[0m\u001b[1;33m,\u001b[0m \u001b[0mensure_min_samples\u001b[0m\u001b[1;33m,\u001b[0m \u001b[0mcontext\u001b[0m\u001b[1;33m)\u001b[0m\u001b[1;33m\u001b[0m\u001b[1;33m\u001b[0m\u001b[0m\n\u001b[0m\u001b[0;32m    809\u001b[0m             )\n\u001b[0;32m    810\u001b[0m \u001b[1;33m\u001b[0m\u001b[0m\n",
      "\u001b[1;31mValueError\u001b[0m: Found array with 0 sample(s) (shape=(0, 1)) while a minimum of 1 is required by MinMaxScaler."
     ]
    }
   ],
   "source": [
    "from sklearn.preprocessing import MinMaxScaler\n",
    "sc = MinMaxScaler(feature_range = (0,1))\n",
    "testingSet = pd.DataFrame(liraDF)\n",
    "testing_set_scaled = sc.fit_transform(testingSet)\n",
    "testing_set_scaled"
   ]
  },
  {
   "cell_type": "code",
   "execution_count": null,
   "metadata": {},
   "outputs": [
    {
     "name": "stderr",
     "output_type": "stream",
     "text": [
      "C:\\Users\\90507\\AppData\\Roaming\\Python\\Python37\\site-packages\\sklearn\\base.py:451: UserWarning: X does not have valid feature names, but MinMaxScaler was fitted with feature names\n",
      "  \"X does not have valid feature names, but\"\n"
     ]
    }
   ],
   "source": [
    "inputs = liraDF[0:].values     #lstm input shape edit\n",
    "inputs = inputs.reshape(-1,1)\n",
    "inputs = sc.transform(inputs)\n",
    "X_test = []\n",
    "for i in range(60,liraDF.size):\n",
    "    X_test.append(inputs[i-60:i,0])\n",
    "X_test = np.array(X_test)\n",
    "#X_test = np.reshape(X_test, (X_test.shape[0], 1))\n",
    "#X_test = np.reshape(X_test, (int(X_test.size/60), 60,1))\n",
    "X_test = np.reshape(X_test, (X_test.shape[0], X_test.shape[1],1))"
   ]
  },
  {
   "cell_type": "code",
   "execution_count": null,
   "metadata": {},
   "outputs": [
    {
     "data": {
      "text/plain": [
       "array([[[0.06011408],\n",
       "        [0.03958633],\n",
       "        [0.        ],\n",
       "        ...,\n",
       "        [0.522676  ],\n",
       "        [0.53370724],\n",
       "        [0.54069204]],\n",
       "\n",
       "       [[0.03958633],\n",
       "        [0.        ],\n",
       "        [0.04028206],\n",
       "        ...,\n",
       "        [0.53370724],\n",
       "        [0.54069204],\n",
       "        [0.56442671]],\n",
       "\n",
       "       [[0.        ],\n",
       "        [0.04028206],\n",
       "        [0.06898358],\n",
       "        ...,\n",
       "        [0.54069204],\n",
       "        [0.56442671],\n",
       "        [0.63171643]],\n",
       "\n",
       "       ...,\n",
       "\n",
       "       [[0.50439034],\n",
       "        [0.522676  ],\n",
       "        [0.53370724],\n",
       "        ...,\n",
       "        [0.97530368],\n",
       "        [0.97838002],\n",
       "        [0.97926713]],\n",
       "\n",
       "       [[0.522676  ],\n",
       "        [0.53370724],\n",
       "        [0.54069204],\n",
       "        ...,\n",
       "        [0.97838002],\n",
       "        [0.97926713],\n",
       "        [0.98755457]],\n",
       "\n",
       "       [[0.53370724],\n",
       "        [0.54069204],\n",
       "        [0.56442671],\n",
       "        ...,\n",
       "        [0.97926713],\n",
       "        [0.98755457],\n",
       "        [0.99506645]]])"
      ]
     },
     "execution_count": 177,
     "metadata": {},
     "output_type": "execute_result"
    }
   ],
   "source": [
    "X_test"
   ]
  },
  {
   "cell_type": "code",
   "execution_count": null,
   "metadata": {},
   "outputs": [],
   "source": [
    "lira_model = load_model('Lira_BOT.bot')\n",
    "predicted_close_value = lira_model.predict(X_test)\n",
    "predicted_close_value = sc.inverse_transform(predicted_close_value)"
   ]
  },
  {
   "cell_type": "code",
   "execution_count": null,
   "metadata": {},
   "outputs": [
    {
     "name": "stdout",
     "output_type": "stream",
     "text": [
      "<class 'pandas.core.frame.DataFrame'>\n",
      "RangeIndex: 59 entries, 0 to 58\n",
      "Data columns (total 1 columns):\n",
      " #   Column  Non-Null Count  Dtype  \n",
      "---  ------  --------------  -----  \n",
      " 0   0       59 non-null     float32\n",
      "dtypes: float32(1)\n",
      "memory usage: 364.0 bytes\n"
     ]
    }
   ],
   "source": [
    "predicted_close_value = pd.DataFrame(predicted_close_value)\n",
    "predicted_close_value.info()"
   ]
  },
  {
   "cell_type": "code",
   "execution_count": null,
   "metadata": {},
   "outputs": [],
   "source": [
    "from scipy.stats import pearsonr\n",
    "from pingouin import corr\n",
    "from researchpy.correlation import corr_case"
   ]
  },
  {
   "cell_type": "code",
   "execution_count": null,
   "metadata": {},
   "outputs": [],
   "source": [
    "predictions_TRY = predicted_close_value\n",
    "%store -r predictions_SOL2"
   ]
  },
  {
   "cell_type": "code",
   "execution_count": null,
   "metadata": {},
   "outputs": [],
   "source": [
    "predictions_all = np.array([predictions_TRY,predictions_SOL2])"
   ]
  },
  {
   "cell_type": "code",
   "execution_count": null,
   "metadata": {},
   "outputs": [
    {
     "name": "stdout",
     "output_type": "stream",
     "text": [
      "[[16.521297]\n",
      " [16.56109 ]\n",
      " [16.61561 ]\n",
      " [16.707985]\n",
      " [16.837477]]\n",
      "[[3.682153 ]\n",
      " [3.6880589]\n",
      " [3.705544 ]\n",
      " [3.698739 ]\n",
      " [3.7075028]]\n"
     ]
    }
   ],
   "source": [
    "print(predictions_all[0][0:5])\n",
    "print(predictions_all[1][0:5])\n",
    "change_try = np.zeros(predictions_all[0].size-1)\n",
    "change_sol = np.zeros(predictions_all[0].size-1)"
   ]
  },
  {
   "cell_type": "code",
   "execution_count": null,
   "metadata": {},
   "outputs": [],
   "source": [
    "for i in range(1,len(predictions_all[0])):\n",
    "    change_try[i-1] = 100 * (predictions_all[0][i] - predictions_all[0][i-1]) / predictions_all[0][i-1]\n",
    "    change_sol[i-1] = 100 * (predictions_all[1][i] - predictions_all[1][i-1]) / predictions_all[1][i-1]"
   ]
  },
  {
   "cell_type": "code",
   "execution_count": null,
   "metadata": {},
   "outputs": [
    {
     "name": "stdout",
     "output_type": "stream",
     "text": [
      "[0.0623294  0.1265578  0.16217518 0.17486602 0.17337185]  ***  [[18.044472]\n",
      " [18.067308]\n",
      " [18.09661 ]\n",
      " [18.128254]\n",
      " [18.159683]]\n",
      "[ 0.26228112 -0.44130242  0.62537724  0.29105502  0.08881132]  ***  [[3.8114889]\n",
      " [3.7946687]\n",
      " [3.8183997]\n",
      " [3.8295133]\n",
      " [3.8329144]]\n"
     ]
    }
   ],
   "source": [
    "print(change_try[-5:],\" *** \" ,predictions_all[0][-5:])\n",
    "print(change_sol[-5:],\" *** \",predictions_all[1][-5:])"
   ]
  },
  {
   "cell_type": "code",
   "execution_count": null,
   "metadata": {},
   "outputs": [
    {
     "name": "stdout",
     "output_type": "stream",
     "text": [
      "58  ***  59\n"
     ]
    }
   ],
   "source": [
    "print(change_sol.size,\" *** \",predictions_all[1].size)"
   ]
  },
  {
   "cell_type": "code",
   "execution_count": null,
   "metadata": {},
   "outputs": [],
   "source": [
    "predictions_all[0] = predictions_all[0] * 0.488 * 0.71 / 1.56\n",
    "predictions_all[1] = predictions_all[1] * 0.369 * 0.86 / 1.56"
   ]
  },
  {
   "cell_type": "code",
   "execution_count": null,
   "metadata": {},
   "outputs": [
    {
     "name": "stdout",
     "output_type": "stream",
     "text": [
      "0.24085889756679535  ***  0.1603916734457016\n"
     ]
    }
   ],
   "source": [
    "changes_all = np.array([change_try, change_sol])\n",
    "print(changes_all[0][0],\" *** \",changes_all[1][0])"
   ]
  },
  {
   "cell_type": "code",
   "execution_count": null,
   "metadata": {},
   "outputs": [],
   "source": [
    "latest_eth = vbt.YFData.download(symbols= 'ETH-USD', period=\"60d\").get('Close')"
   ]
  },
  {
   "cell_type": "code",
   "execution_count": null,
   "metadata": {},
   "outputs": [
    {
     "data": {
      "text/plain": [
       "array([0.000439  , 0.00038022, 0.00038022])"
      ]
     },
     "execution_count": 190,
     "metadata": {},
     "output_type": "execute_result"
    }
   ],
   "source": [
    "gas_dummy = pd.read_csv(\"AvgGasPrice.csv\")\n",
    "gas_dummy = gas_dummy[-59:].reset_index()\n",
    "gas_prices = np.array(gas_dummy[\"Value (Wei)\"])\n",
    "gas_prices = np.append(gas_prices,gas_prices[-1])\n",
    "gas_prices = gas_prices * 10e-10\n",
    "gas_prices = gas_prices * 21000 \n",
    "gas_prices = gas_prices * 10e-10\n",
    "gas_prices[-3:]"
   ]
  },
  {
   "cell_type": "code",
   "execution_count": null,
   "metadata": {},
   "outputs": [],
   "source": [
    "buy_sel_signal = np.array([])\n",
    "one_hundred_dollar = (100 + gas_prices[0] * latest_eth[0]) / latest_eth[0]\n",
    "for i in range(len(changes_all[0])):\n",
    "    one_hundred_dollar = (100+gas_prices[i] * latest_eth[i]) / latest_eth[i]\n",
    "    if(changes_all[0][i] * changes_all[1][0] > 0):\n",
    "        if(np.abs((changes_all[0][i] + changes_all[1][i])/2) >= one_hundred_dollar):\n",
    "            if(changes_all[0][i] < 0):\n",
    "                buy_sel_signal = np.append(buy_sel_signal, -1)\n",
    "            else:\n",
    "                buy_sel_signal = np.append(buy_sel_signal, 1)\n",
    "        else:\n",
    "            buy_sel_signal = np.append(buy_sel_signal, 0)\n",
    "    else:\n",
    "        buy_sel_signal = np.append(buy_sel_signal,0)"
   ]
  },
  {
   "cell_type": "code",
   "execution_count": null,
   "metadata": {},
   "outputs": [],
   "source": [
    "total_eth = 10000 / latest_eth[0]\n",
    "total_money = 10000\n",
    "position = []\n",
    "for i in range(len(buy_sel_signal)):\n",
    "    if buy_sel_signal[i] > 1:\n",
    "        position.append(0)\n",
    "    else:\n",
    "        position.append(1)\n",
    "    \n",
    "for i in range(len(buy_sel_signal)):\n",
    "    if buy_sel_signal[i] == 0 :\n",
    "        position[i] = 1\n",
    "    elif buy_sel_signal[i] == -1  or buy_sel_signal[i] == 1:\n",
    "        position[i] = 0\n",
    "    else:\n",
    "        position[i] = position[i-1]"
   ]
  },
  {
   "cell_type": "code",
   "execution_count": null,
   "metadata": {},
   "outputs": [],
   "source": [
    "total_records = np.array([buy_sel_signal,buy_sel_signal])\n",
    "for i in range(len(buy_sel_signal)):\n",
    "    total_records[0][i] = total_money\n",
    "    total_records[1][i] = total_eth\n",
    "    one_hundred_dollar = (100+gas_prices[i] * latest_eth[i]) / latest_eth[i]\n",
    "    if(buy_sel_signal[i]!=0 and position[i]!=1):\n",
    "        if(buy_sel_signal[i]==1):\n",
    "            total_eth +=  one_hundred_dollar\n",
    "            total_money = total_money - 100 - gas_prices[i] * latest_eth[i] - 0.001*(100 + gas_prices[i] * latest_eth[i])\n",
    "        elif(buy_sel_signal[i]==-1):\n",
    "            total_eth -=  one_hundred_dollar\n",
    "            total_money = total_money + 100 - gas_prices[i] * latest_eth[i] - 0.001*(100 + gas_prices[i] * latest_eth[i])"
   ]
  },
  {
   "cell_type": "code",
   "execution_count": null,
   "metadata": {},
   "outputs": [
    {
     "name": "stdout",
     "output_type": "stream",
     "text": [
      "5967.938844513569  ***  17518.824921599135\n",
      " ***** \n",
      "[9595.64391587 9495.0659236  9394.31588781 9293.42581229]  ***  [9.47612989 9.56970468 9.65714536 9.74598241]\n"
     ]
    }
   ],
   "source": [
    "print(total_money,\" *** \",total_eth * latest_eth[-1])\n",
    "print(\" ***** \")\n",
    "print(total_records[0][4:8], \" *** \", total_records[1][4:8])"
   ]
  },
  {
   "cell_type": "code",
   "execution_count": null,
   "metadata": {},
   "outputs": [
    {
     "name": "stdout",
     "output_type": "stream",
     "text": [
      "Starting Money = $10K\n",
      "Starting Ethereum =  9.099646011329238 ETH\n",
      "Last Total Money =  23486.763766112705\n",
      "Profit = % 17.433818830563524\n"
     ]
    }
   ],
   "source": [
    "print(\"Starting Money = $10K\")\n",
    "print(\"Starting Ethereum = \",(10000 / latest_eth[0]),\"ETH\")\n",
    "print(\"Last Total Money = \", total_money+(total_eth*latest_eth[-1]))\n",
    "profit = 100 * (total_money+(total_eth*latest_eth[-1]) -20000) / 20000\n",
    "print(\"Profit = %\",profit)"
   ]
  },
  {
   "cell_type": "code",
   "execution_count": null,
   "metadata": {},
   "outputs": [
    {
     "name": "stdout",
     "output_type": "stream",
     "text": [
      "40\n"
     ]
    }
   ],
   "source": [
    "control = 0\n",
    "for i in range(len(buy_sel_signal)):\n",
    "    #if(buy_sel_signal[i]==1):\n",
    "        #print(\"It is a buy order after \",i+1,\" days\")\n",
    "    if(buy_sel_signal[i]==1):\n",
    "        control = control + 1\n",
    "        #print(\"It is a sell order after \",i+1,\" days\")\n",
    "    #dollar_100 = (100+gas_prices[i] * latest_eth[i]) / latest_eth[i]\n",
    "    #print(np.abs((changes_all[0][i] + changes_all[1][i])/2),\" *** \",dollar_100)\n",
    "    #print(changes_all[0][i] ,\" *** \", changes_all[1][i],\" *** \",dollar_100)\n",
    "print(control)"
   ]
  },
  {
   "cell_type": "code",
   "execution_count": null,
   "metadata": {},
   "outputs": [],
   "source": [
    "for i in range(change_try.size):\n",
    "    if(change_try[i]<0):\n",
    "        print(change_try[i],\" *** \",change_sol[i])"
   ]
  }
 ],
 "metadata": {
  "kernelspec": {
   "display_name": "Python 3.7.9 64-bit",
   "language": "python",
   "name": "python3"
  },
  "language_info": {
   "codemirror_mode": {
    "name": "ipython",
    "version": 3
   },
   "file_extension": ".py",
   "mimetype": "text/x-python",
   "name": "python",
   "nbconvert_exporter": "python",
   "pygments_lexer": "ipython3",
   "version": "3.7.9"
  },
  "orig_nbformat": 4,
  "vscode": {
   "interpreter": {
    "hash": "29232f10f6d82a26c657ca4f81771c1b6b84d3819b7ae83f215d80951192e7b2"
   }
  }
 },
 "nbformat": 4,
 "nbformat_minor": 2
}
