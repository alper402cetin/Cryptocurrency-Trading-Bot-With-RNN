{
 "cells": [
  {
   "cell_type": "code",
   "execution_count": 13,
   "metadata": {},
   "outputs": [],
   "source": [
    "from time import sleep\n",
    "import numpy as np\n",
    "import urllib3\n",
    "import matplotlib\n",
    "from numpy import append\n",
    "import config\n",
    "import vectorbt as vbt\n",
    "import pandas as pd\n",
    "import pandas_ta as ta\n",
    "from datetime import datetime\n",
    "from alpaca_trade_api.rest import REST\n",
    "import gym\n",
    "import gym_anytrading\n",
    "from tensorflow.keras.models import load_model\n",
    "\n",
    "from stable_baselines import ACKTR\n",
    "from stable_baselines.common.evaluation import evaluate_policy"
   ]
  },
  {
   "cell_type": "code",
   "execution_count": 14,
   "metadata": {},
   "outputs": [
    {
     "data": {
      "text/plain": [
       "60"
      ]
     },
     "execution_count": 14,
     "metadata": {},
     "output_type": "execute_result"
    },
    {
     "data": {
      "image/png": "[encoded data removed]",
      "text/plain": [
       "<Figure size 432x288 with 1 Axes>"
      ]
     },
     "metadata": {
      "needs_background": "light"
     },
     "output_type": "display_data"
    }
   ],
   "source": [
    "data = vbt.YFData.download(symbols= 'TRY=X', period=\"60d\")\n",
    "X=data.data['TRY=X'].index\n",
    "Y=data.data['TRY=X'].Close\n",
    "data.data['TRY=X'].reset_index().plot(x='Date', y='Close')\n",
    "X=data.data['TRY=X']\n",
    "tryDF = pd.DataFrame(X['Close'])\n",
    "tryDF.size"
   ]
  },
  {
   "cell_type": "code",
   "execution_count": 15,
   "metadata": {},
   "outputs": [
    {
     "data": {
      "text/plain": [
       "array([[0.01504925],\n",
       "       [0.        ],\n",
       "       [0.02804475],\n",
       "       [0.02475592],\n",
       "       [0.06236056],\n",
       "       [0.08504642],\n",
       "       [0.09941073],\n",
       "       [0.14822131],\n",
       "       [0.28660332],\n",
       "       [0.48034639],\n",
       "       [0.51603427],\n",
       "       [0.51278567],\n",
       "       [0.53285025],\n",
       "       [0.52269238],\n",
       "       [0.51421101],\n",
       "       [0.54852573],\n",
       "       [0.57126922],\n",
       "       [0.55741808],\n",
       "       [0.57668464],\n",
       "       [0.57474613],\n",
       "       [0.57662702],\n",
       "       [0.19072713],\n",
       "       [0.13081933],\n",
       "       [0.1654189 ],\n",
       "       [0.1675281 ],\n",
       "       [0.20383787],\n",
       "       [0.2275729 ],\n",
       "       [0.25316163],\n",
       "       [0.38025724],\n",
       "       [0.5005871 ],\n",
       "       [0.52703581],\n",
       "       [0.53427559],\n",
       "       [0.57594316],\n",
       "       [0.53934854],\n",
       "       [0.61384896],\n",
       "       [0.64400291],\n",
       "       [0.57303594],\n",
       "       [0.64223619],\n",
       "       [0.68795147],\n",
       "       [0.7186175 ],\n",
       "       [0.7901433 ],\n",
       "       [0.81113092],\n",
       "       [0.85211572],\n",
       "       [0.87651177],\n",
       "       [0.87388941],\n",
       "       [0.91823697],\n",
       "       [0.90529801],\n",
       "       [0.88876688],\n",
       "       [0.91703994],\n",
       "       [0.90997195],\n",
       "       [0.91624193],\n",
       "       [0.90598187],\n",
       "       [0.91401857],\n",
       "       [0.90615256],\n",
       "       [0.87542891],\n",
       "       [0.92046033],\n",
       "       [0.91527322],\n",
       "       [0.92203353],\n",
       "       [0.89603492],\n",
       "       [1.        ]])"
      ]
     },
     "execution_count": 15,
     "metadata": {},
     "output_type": "execute_result"
    }
   ],
   "source": [
    "from sklearn.preprocessing import MinMaxScaler\n",
    "sc = MinMaxScaler(feature_range = (0,1))\n",
    "testingSet = pd.DataFrame(tryDF)\n",
    "testing_set_scaled = sc.fit_transform(testingSet)\n",
    "testing_set_scaled"
   ]
  },
  {
   "cell_type": "code",
   "execution_count": 16,
   "metadata": {},
   "outputs": [
    {
     "name": "stderr",
     "output_type": "stream",
     "text": [
      "C:\\Users\\90507\\AppData\\Roaming\\Python\\Python37\\site-packages\\sklearn\\base.py:451: UserWarning: X does not have valid feature names, but MinMaxScaler was fitted with feature names\n",
      "  \"X does not have valid feature names, but\"\n"
     ]
    }
   ],
   "source": [
    "inputs = tryDF[0:].values     #lstm input shape edit\n",
    "inputs = inputs.reshape(-1,1)\n",
    "inputs = sc.transform(inputs)\n",
    "X_test = np.array(inputs)\n",
    "X_test = np.reshape(X_test, (int(X_test.size/60), 60,1))"
   ]
  },
  {
   "cell_type": "code",
   "execution_count": 17,
   "metadata": {},
   "outputs": [],
   "source": [
    "try_model = load_model('Lira_BOT.bot')"
   ]
  },
  {
   "cell_type": "code",
   "execution_count": 18,
   "metadata": {},
   "outputs": [],
   "source": [
    "predicted_close_value = np.array([])\n",
    "#predicted_close_value = sol_model.predict(X_test)\n",
    "for i in range(0,7):\n",
    "    predicted_close_value = try_model.predict(X_test)\n",
    "    X_test = np.append(X_test,predicted_close_value)\n",
    "    X_test = X_test[1:]\n",
    "    X_test = np.reshape(X_test, (1,60,1))"
   ]
  },
  {
   "cell_type": "code",
   "execution_count": 19,
   "metadata": {},
   "outputs": [],
   "source": [
    "predicted_close_value = sc.inverse_transform(X_test[0][-7:])"
   ]
  },
  {
   "cell_type": "code",
   "execution_count": 20,
   "metadata": {},
   "outputs": [
    {
     "name": "stdout",
     "output_type": "stream",
     "text": [
      "<class 'pandas.core.frame.DataFrame'>\n",
      "RangeIndex: 7 entries, 0 to 6\n",
      "Data columns (total 1 columns):\n",
      " #   Column  Non-Null Count  Dtype  \n",
      "---  ------  --------------  -----  \n",
      " 0   0       7 non-null      float64\n",
      "dtypes: float64(1)\n",
      "memory usage: 184.0 bytes\n"
     ]
    }
   ],
   "source": [
    "predicted_close_value = pd.DataFrame(predicted_close_value)\n",
    "predicted_close_value.info()"
   ]
  },
  {
   "cell_type": "code",
   "execution_count": 21,
   "metadata": {},
   "outputs": [
    {
     "data": {
      "image/png": "[encoded data removed]",
      "text/plain": [
       "<Figure size 1152x432 with 1 Axes>"
      ]
     },
     "metadata": {
      "needs_background": "light"
     },
     "output_type": "display_data"
    }
   ],
   "source": [
    "import matplotlib.pyplot as plt\n",
    "figure = plt.figure()\n",
    "figure.set_figwidth(16)\n",
    "figure.set_figheight(6)\n",
    "plt.plot(predicted_close_value, color='red', label='Predicted Close Value')\n",
    "plt.title('Turkish Lira Close Value Prediction For Next 7 Days')\n",
    "plt.xlabel('Time')\n",
    "plt.ylabel('Close Value')\n",
    "plt.legend()\n",
    "plt.show()"
   ]
  },
  {
   "cell_type": "code",
   "execution_count": 22,
   "metadata": {},
   "outputs": [
    {
     "name": "stdout",
     "output_type": "stream",
     "text": [
      "[-0.51033283  0.09077792  0.09321272  0.08552472  0.07720792  0.07154561\n",
      "  0.06849489]\n"
     ]
    }
   ],
   "source": [
    "current_value_TRY = tryDF[\"Close\"][-1]\n",
    "next_week_TRY = np.array([])\n",
    "for i in range(predicted_close_value.size):\n",
    "    next_week_TRY = np.append(next_week_TRY, 100 * (predicted_close_value[0][i]-current_value_TRY) / current_value_TRY)\n",
    "    current_value_TRY = predicted_close_value[0][i]\n",
    "print(next_week_TRY)"
   ]
  },
  {
   "cell_type": "code",
   "execution_count": 23,
   "metadata": {},
   "outputs": [],
   "source": [
    "import pickle\n",
    "\n",
    "%store -r next_week_SOL\n",
    "all_next_week = np.append(next_week_TRY,next_week_SOL)\n",
    "all_next_week = np.reshape(all_next_week,(2,7))\n",
    "\n",
    "with open('Next_Week_Predictions.pickle', 'wb') as f:\n",
    "    pickle.dump(all_next_week, f)"
   ]
  },
  {
   "cell_type": "code",
   "execution_count": 24,
   "metadata": {},
   "outputs": [
    {
     "name": "stdout",
     "output_type": "stream",
     "text": [
      "[[-0.51033283  0.09077792  0.09321272  0.08552472  0.07720792  0.07154561\n",
      "   0.06849489]\n",
      " [-0.02719107 -0.16640095 -0.13940814 -0.13251362 -0.13165018 -0.13159909\n",
      "  -0.13011638]]\n"
     ]
    }
   ],
   "source": [
    "file = open('Next_Week_Predictions.pickle', 'rb')\n",
    "temp = pickle.load(file)\n",
    "print(temp)"
   ]
  }
 ],
 "metadata": {
  "kernelspec": {
   "display_name": "Python 3.7.9 64-bit",
   "language": "python",
   "name": "python3"
  },
  "language_info": {
   "codemirror_mode": {
    "name": "ipython",
    "version": 3
   },
   "file_extension": ".py",
   "mimetype": "text/x-python",
   "name": "python",
   "nbconvert_exporter": "python",
   "pygments_lexer": "ipython3",
   "version": "3.7.9"
  },
  "orig_nbformat": 4,
  "vscode": {
   "interpreter": {
    "hash": "29232f10f6d82a26c657ca4f81771c1b6b84d3819b7ae83f215d80951192e7b2"
   }
  }
 },
 "nbformat": 4,
 "nbformat_minor": 2
}
